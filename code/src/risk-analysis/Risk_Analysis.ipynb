{
  "cells": [
    {
      "cell_type": "code",
      "execution_count": 1,
      "id": "MdIbJVBVaWI7",
      "metadata": {
        "colab": {
          "base_uri": "https://localhost:8080/",
          "height": 0
        },
        "collapsed": true,
        "id": "MdIbJVBVaWI7",
        "outputId": "4a2d20e2-24e7-4af1-ef92-f2ee731aeca8"
      },
      "outputs": [
        {
          "name": "stdout",
          "output_type": "stream",
          "text": [
            "Requirement already satisfied: langchain in /usr/local/lib/python3.11/dist-packages (0.3.21)\n",
            "Requirement already satisfied: langgraph in /usr/local/lib/python3.11/dist-packages (0.3.20)\n",
            "Requirement already satisfied: langchain-huggingface in /usr/local/lib/python3.11/dist-packages (0.1.2)\n",
            "Requirement already satisfied: langchain-ollama in /usr/local/lib/python3.11/dist-packages (0.3.0)\n",
            "Requirement already satisfied: langchain-openai in /usr/local/lib/python3.11/dist-packages (0.3.10)\n",
            "Requirement already satisfied: langchain-community in /usr/local/lib/python3.11/dist-packages (0.3.20)\n",
            "Requirement already satisfied: langchain-core<1.0.0,>=0.3.45 in /usr/local/lib/python3.11/dist-packages (from langchain) (0.3.48)\n",
            "Requirement already satisfied: langchain-text-splitters<1.0.0,>=0.3.7 in /usr/local/lib/python3.11/dist-packages (from langchain) (0.3.7)\n",
            "Requirement already satisfied: langsmith<0.4,>=0.1.17 in /usr/local/lib/python3.11/dist-packages (from langchain) (0.3.18)\n",
            "Requirement already satisfied: pydantic<3.0.0,>=2.7.4 in /usr/local/lib/python3.11/dist-packages (from langchain) (2.10.6)\n",
            "Requirement already satisfied: SQLAlchemy<3,>=1.4 in /usr/local/lib/python3.11/dist-packages (from langchain) (2.0.39)\n",
            "Requirement already satisfied: requests<3,>=2 in /usr/local/lib/python3.11/dist-packages (from langchain) (2.32.3)\n",
            "Requirement already satisfied: PyYAML>=5.3 in /usr/local/lib/python3.11/dist-packages (from langchain) (6.0.2)\n",
            "Requirement already satisfied: langgraph-checkpoint<3.0.0,>=2.0.10 in /usr/local/lib/python3.11/dist-packages (from langgraph) (2.0.23)\n",
            "Requirement already satisfied: langgraph-prebuilt<0.2,>=0.1.1 in /usr/local/lib/python3.11/dist-packages (from langgraph) (0.1.6)\n",
            "Requirement already satisfied: langgraph-sdk<0.2.0,>=0.1.42 in /usr/local/lib/python3.11/dist-packages (from langgraph) (0.1.59)\n",
            "Requirement already satisfied: xxhash<4.0.0,>=3.5.0 in /usr/local/lib/python3.11/dist-packages (from langgraph) (3.5.0)\n",
            "Requirement already satisfied: huggingface-hub>=0.23.0 in /usr/local/lib/python3.11/dist-packages (from langchain-huggingface) (0.29.3)\n",
            "Requirement already satisfied: sentence-transformers>=2.6.0 in /usr/local/lib/python3.11/dist-packages (from langchain-huggingface) (3.4.1)\n",
            "Requirement already satisfied: tokenizers>=0.19.1 in /usr/local/lib/python3.11/dist-packages (from langchain-huggingface) (0.21.1)\n",
            "Requirement already satisfied: transformers>=4.39.0 in /usr/local/lib/python3.11/dist-packages (from langchain-huggingface) (4.50.0)\n",
            "Requirement already satisfied: ollama<1,>=0.4.4 in /usr/local/lib/python3.11/dist-packages (from langchain-ollama) (0.4.7)\n",
            "Requirement already satisfied: openai<2.0.0,>=1.68.2 in /usr/local/lib/python3.11/dist-packages (from langchain-openai) (1.68.2)\n",
            "Requirement already satisfied: tiktoken<1,>=0.7 in /usr/local/lib/python3.11/dist-packages (from langchain-openai) (0.9.0)\n",
            "Requirement already satisfied: aiohttp<4.0.0,>=3.8.3 in /usr/local/lib/python3.11/dist-packages (from langchain-community) (3.11.14)\n",
            "Requirement already satisfied: tenacity!=8.4.0,<10,>=8.1.0 in /usr/local/lib/python3.11/dist-packages (from langchain-community) (9.0.0)\n",
            "Requirement already satisfied: dataclasses-json<0.7,>=0.5.7 in /usr/local/lib/python3.11/dist-packages (from langchain-community) (0.6.7)\n",
            "Requirement already satisfied: pydantic-settings<3.0.0,>=2.4.0 in /usr/local/lib/python3.11/dist-packages (from langchain-community) (2.8.1)\n",
            "Requirement already satisfied: httpx-sse<1.0.0,>=0.4.0 in /usr/local/lib/python3.11/dist-packages (from langchain-community) (0.4.0)\n",
            "Requirement already satisfied: numpy<3,>=1.26.2 in /usr/local/lib/python3.11/dist-packages (from langchain-community) (2.0.2)\n",
            "Requirement already satisfied: aiohappyeyeballs>=2.3.0 in /usr/local/lib/python3.11/dist-packages (from aiohttp<4.0.0,>=3.8.3->langchain-community) (2.6.1)\n",
            "Requirement already satisfied: aiosignal>=1.1.2 in /usr/local/lib/python3.11/dist-packages (from aiohttp<4.0.0,>=3.8.3->langchain-community) (1.3.2)\n",
            "Requirement already satisfied: attrs>=17.3.0 in /usr/local/lib/python3.11/dist-packages (from aiohttp<4.0.0,>=3.8.3->langchain-community) (25.3.0)\n",
            "Requirement already satisfied: frozenlist>=1.1.1 in /usr/local/lib/python3.11/dist-packages (from aiohttp<4.0.0,>=3.8.3->langchain-community) (1.5.0)\n",
            "Requirement already satisfied: multidict<7.0,>=4.5 in /usr/local/lib/python3.11/dist-packages (from aiohttp<4.0.0,>=3.8.3->langchain-community) (6.2.0)\n",
            "Requirement already satisfied: propcache>=0.2.0 in /usr/local/lib/python3.11/dist-packages (from aiohttp<4.0.0,>=3.8.3->langchain-community) (0.3.0)\n",
            "Requirement already satisfied: yarl<2.0,>=1.17.0 in /usr/local/lib/python3.11/dist-packages (from aiohttp<4.0.0,>=3.8.3->langchain-community) (1.18.3)\n",
            "Requirement already satisfied: marshmallow<4.0.0,>=3.18.0 in /usr/local/lib/python3.11/dist-packages (from dataclasses-json<0.7,>=0.5.7->langchain-community) (3.26.1)\n",
            "Requirement already satisfied: typing-inspect<1,>=0.4.0 in /usr/local/lib/python3.11/dist-packages (from dataclasses-json<0.7,>=0.5.7->langchain-community) (0.9.0)\n",
            "Requirement already satisfied: filelock in /usr/local/lib/python3.11/dist-packages (from huggingface-hub>=0.23.0->langchain-huggingface) (3.18.0)\n",
            "Requirement already satisfied: fsspec>=2023.5.0 in /usr/local/lib/python3.11/dist-packages (from huggingface-hub>=0.23.0->langchain-huggingface) (2025.3.0)\n",
            "Requirement already satisfied: packaging>=20.9 in /usr/local/lib/python3.11/dist-packages (from huggingface-hub>=0.23.0->langchain-huggingface) (24.2)\n",
            "Requirement already satisfied: tqdm>=4.42.1 in /usr/local/lib/python3.11/dist-packages (from huggingface-hub>=0.23.0->langchain-huggingface) (4.67.1)\n",
            "Requirement already satisfied: typing-extensions>=3.7.4.3 in /usr/local/lib/python3.11/dist-packages (from huggingface-hub>=0.23.0->langchain-huggingface) (4.12.2)\n",
            "Requirement already satisfied: jsonpatch<2.0,>=1.33 in /usr/local/lib/python3.11/dist-packages (from langchain-core<1.0.0,>=0.3.45->langchain) (1.33)\n",
            "Requirement already satisfied: ormsgpack<2.0.0,>=1.8.0 in /usr/local/lib/python3.11/dist-packages (from langgraph-checkpoint<3.0.0,>=2.0.10->langgraph) (1.9.0)\n",
            "Requirement already satisfied: httpx>=0.25.2 in /usr/local/lib/python3.11/dist-packages (from langgraph-sdk<0.2.0,>=0.1.42->langgraph) (0.28.1)\n",
            "Requirement already satisfied: orjson>=3.10.1 in /usr/local/lib/python3.11/dist-packages (from langgraph-sdk<0.2.0,>=0.1.42->langgraph) (3.10.15)\n",
            "Requirement already satisfied: requests-toolbelt<2.0.0,>=1.0.0 in /usr/local/lib/python3.11/dist-packages (from langsmith<0.4,>=0.1.17->langchain) (1.0.0)\n",
            "Requirement already satisfied: zstandard<0.24.0,>=0.23.0 in /usr/local/lib/python3.11/dist-packages (from langsmith<0.4,>=0.1.17->langchain) (0.23.0)\n",
            "Requirement already satisfied: anyio<5,>=3.5.0 in /usr/local/lib/python3.11/dist-packages (from openai<2.0.0,>=1.68.2->langchain-openai) (4.9.0)\n",
            "Requirement already satisfied: distro<2,>=1.7.0 in /usr/local/lib/python3.11/dist-packages (from openai<2.0.0,>=1.68.2->langchain-openai) (1.9.0)\n",
            "Requirement already satisfied: jiter<1,>=0.4.0 in /usr/local/lib/python3.11/dist-packages (from openai<2.0.0,>=1.68.2->langchain-openai) (0.9.0)\n",
            "Requirement already satisfied: sniffio in /usr/local/lib/python3.11/dist-packages (from openai<2.0.0,>=1.68.2->langchain-openai) (1.3.1)\n",
            "Requirement already satisfied: annotated-types>=0.6.0 in /usr/local/lib/python3.11/dist-packages (from pydantic<3.0.0,>=2.7.4->langchain) (0.7.0)\n",
            "Requirement already satisfied: pydantic-core==2.27.2 in /usr/local/lib/python3.11/dist-packages (from pydantic<3.0.0,>=2.7.4->langchain) (2.27.2)\n",
            "Requirement already satisfied: python-dotenv>=0.21.0 in /usr/local/lib/python3.11/dist-packages (from pydantic-settings<3.0.0,>=2.4.0->langchain-community) (1.1.0)\n",
            "Requirement already satisfied: charset-normalizer<4,>=2 in /usr/local/lib/python3.11/dist-packages (from requests<3,>=2->langchain) (3.4.1)\n",
            "Requirement already satisfied: idna<4,>=2.5 in /usr/local/lib/python3.11/dist-packages (from requests<3,>=2->langchain) (3.10)\n",
            "Requirement already satisfied: urllib3<3,>=1.21.1 in /usr/local/lib/python3.11/dist-packages (from requests<3,>=2->langchain) (2.3.0)\n",
            "Requirement already satisfied: certifi>=2017.4.17 in /usr/local/lib/python3.11/dist-packages (from requests<3,>=2->langchain) (2025.1.31)\n",
            "Requirement already satisfied: torch>=1.11.0 in /usr/local/lib/python3.11/dist-packages (from sentence-transformers>=2.6.0->langchain-huggingface) (2.6.0+cu124)\n",
            "Requirement already satisfied: scikit-learn in /usr/local/lib/python3.11/dist-packages (from sentence-transformers>=2.6.0->langchain-huggingface) (1.6.1)\n",
            "Requirement already satisfied: scipy in /usr/local/lib/python3.11/dist-packages (from sentence-transformers>=2.6.0->langchain-huggingface) (1.14.1)\n",
            "Requirement already satisfied: Pillow in /usr/local/lib/python3.11/dist-packages (from sentence-transformers>=2.6.0->langchain-huggingface) (11.1.0)\n",
            "Requirement already satisfied: greenlet!=0.4.17 in /usr/local/lib/python3.11/dist-packages (from SQLAlchemy<3,>=1.4->langchain) (3.1.1)\n",
            "Requirement already satisfied: regex>=2022.1.18 in /usr/local/lib/python3.11/dist-packages (from tiktoken<1,>=0.7->langchain-openai) (2024.11.6)\n",
            "Requirement already satisfied: safetensors>=0.4.3 in /usr/local/lib/python3.11/dist-packages (from transformers>=4.39.0->langchain-huggingface) (0.5.3)\n",
            "Requirement already satisfied: httpcore==1.* in /usr/local/lib/python3.11/dist-packages (from httpx>=0.25.2->langgraph-sdk<0.2.0,>=0.1.42->langgraph) (1.0.7)\n",
            "Requirement already satisfied: h11<0.15,>=0.13 in /usr/local/lib/python3.11/dist-packages (from httpcore==1.*->httpx>=0.25.2->langgraph-sdk<0.2.0,>=0.1.42->langgraph) (0.14.0)\n",
            "Requirement already satisfied: jsonpointer>=1.9 in /usr/local/lib/python3.11/dist-packages (from jsonpatch<2.0,>=1.33->langchain-core<1.0.0,>=0.3.45->langchain) (3.0.0)\n",
            "Requirement already satisfied: networkx in /usr/local/lib/python3.11/dist-packages (from torch>=1.11.0->sentence-transformers>=2.6.0->langchain-huggingface) (3.4.2)\n",
            "Requirement already satisfied: jinja2 in /usr/local/lib/python3.11/dist-packages (from torch>=1.11.0->sentence-transformers>=2.6.0->langchain-huggingface) (3.1.6)\n",
            "Requirement already satisfied: nvidia-cuda-nvrtc-cu12==12.4.127 in /usr/local/lib/python3.11/dist-packages (from torch>=1.11.0->sentence-transformers>=2.6.0->langchain-huggingface) (12.4.127)\n",
            "Requirement already satisfied: nvidia-cuda-runtime-cu12==12.4.127 in /usr/local/lib/python3.11/dist-packages (from torch>=1.11.0->sentence-transformers>=2.6.0->langchain-huggingface) (12.4.127)\n",
            "Requirement already satisfied: nvidia-cuda-cupti-cu12==12.4.127 in /usr/local/lib/python3.11/dist-packages (from torch>=1.11.0->sentence-transformers>=2.6.0->langchain-huggingface) (12.4.127)\n",
            "Requirement already satisfied: nvidia-cudnn-cu12==9.1.0.70 in /usr/local/lib/python3.11/dist-packages (from torch>=1.11.0->sentence-transformers>=2.6.0->langchain-huggingface) (9.1.0.70)\n",
            "Requirement already satisfied: nvidia-cublas-cu12==12.4.5.8 in /usr/local/lib/python3.11/dist-packages (from torch>=1.11.0->sentence-transformers>=2.6.0->langchain-huggingface) (12.4.5.8)\n",
            "Requirement already satisfied: nvidia-cufft-cu12==11.2.1.3 in /usr/local/lib/python3.11/dist-packages (from torch>=1.11.0->sentence-transformers>=2.6.0->langchain-huggingface) (11.2.1.3)\n",
            "Requirement already satisfied: nvidia-curand-cu12==10.3.5.147 in /usr/local/lib/python3.11/dist-packages (from torch>=1.11.0->sentence-transformers>=2.6.0->langchain-huggingface) (10.3.5.147)\n",
            "Requirement already satisfied: nvidia-cusolver-cu12==11.6.1.9 in /usr/local/lib/python3.11/dist-packages (from torch>=1.11.0->sentence-transformers>=2.6.0->langchain-huggingface) (11.6.1.9)\n",
            "Requirement already satisfied: nvidia-cusparse-cu12==12.3.1.170 in /usr/local/lib/python3.11/dist-packages (from torch>=1.11.0->sentence-transformers>=2.6.0->langchain-huggingface) (12.3.1.170)\n",
            "Requirement already satisfied: nvidia-cusparselt-cu12==0.6.2 in /usr/local/lib/python3.11/dist-packages (from torch>=1.11.0->sentence-transformers>=2.6.0->langchain-huggingface) (0.6.2)\n",
            "Requirement already satisfied: nvidia-nccl-cu12==2.21.5 in /usr/local/lib/python3.11/dist-packages (from torch>=1.11.0->sentence-transformers>=2.6.0->langchain-huggingface) (2.21.5)\n",
            "Requirement already satisfied: nvidia-nvtx-cu12==12.4.127 in /usr/local/lib/python3.11/dist-packages (from torch>=1.11.0->sentence-transformers>=2.6.0->langchain-huggingface) (12.4.127)\n",
            "Requirement already satisfied: nvidia-nvjitlink-cu12==12.4.127 in /usr/local/lib/python3.11/dist-packages (from torch>=1.11.0->sentence-transformers>=2.6.0->langchain-huggingface) (12.4.127)\n",
            "Requirement already satisfied: triton==3.2.0 in /usr/local/lib/python3.11/dist-packages (from torch>=1.11.0->sentence-transformers>=2.6.0->langchain-huggingface) (3.2.0)\n",
            "Requirement already satisfied: sympy==1.13.1 in /usr/local/lib/python3.11/dist-packages (from torch>=1.11.0->sentence-transformers>=2.6.0->langchain-huggingface) (1.13.1)\n",
            "Requirement already satisfied: mpmath<1.4,>=1.1.0 in /usr/local/lib/python3.11/dist-packages (from sympy==1.13.1->torch>=1.11.0->sentence-transformers>=2.6.0->langchain-huggingface) (1.3.0)\n",
            "Requirement already satisfied: mypy-extensions>=0.3.0 in /usr/local/lib/python3.11/dist-packages (from typing-inspect<1,>=0.4.0->dataclasses-json<0.7,>=0.5.7->langchain-community) (1.0.0)\n",
            "Requirement already satisfied: joblib>=1.2.0 in /usr/local/lib/python3.11/dist-packages (from scikit-learn->sentence-transformers>=2.6.0->langchain-huggingface) (1.4.2)\n",
            "Requirement already satisfied: threadpoolctl>=3.1.0 in /usr/local/lib/python3.11/dist-packages (from scikit-learn->sentence-transformers>=2.6.0->langchain-huggingface) (3.6.0)\n",
            "Requirement already satisfied: MarkupSafe>=2.0 in /usr/local/lib/python3.11/dist-packages (from jinja2->torch>=1.11.0->sentence-transformers>=2.6.0->langchain-huggingface) (3.0.2)\n",
            "Requirement already satisfied: pinecone in /usr/local/lib/python3.11/dist-packages (6.0.2)\n",
            "Requirement already satisfied: sentence-transformers in /usr/local/lib/python3.11/dist-packages (3.4.1)\n",
            "Requirement already satisfied: pymupdf in /usr/local/lib/python3.11/dist-packages (1.25.4)\n",
            "Requirement already satisfied: serpapi in /usr/local/lib/python3.11/dist-packages (0.1.5)\n",
            "Requirement already satisfied: google-search-results in /usr/local/lib/python3.11/dist-packages (2.4.2)\n",
            "Requirement already satisfied: openapi in /usr/local/lib/python3.11/dist-packages (2.0.0)\n",
            "Requirement already satisfied: pyarrow in /usr/local/lib/python3.11/dist-packages (18.1.0)\n",
            "Requirement already satisfied: fastparquet in /usr/local/lib/python3.11/dist-packages (2024.11.0)\n",
            "Requirement already satisfied: certifi>=2019.11.17 in /usr/local/lib/python3.11/dist-packages (from pinecone) (2025.1.31)\n",
            "Requirement already satisfied: pinecone-plugin-interface<0.0.8,>=0.0.7 in /usr/local/lib/python3.11/dist-packages (from pinecone) (0.0.7)\n",
            "Requirement already satisfied: python-dateutil>=2.5.3 in /usr/local/lib/python3.11/dist-packages (from pinecone) (2.8.2)\n",
            "Requirement already satisfied: typing-extensions>=3.7.4 in /usr/local/lib/python3.11/dist-packages (from pinecone) (4.12.2)\n",
            "Requirement already satisfied: urllib3>=1.26.0 in /usr/local/lib/python3.11/dist-packages (from pinecone) (2.3.0)\n",
            "Requirement already satisfied: transformers<5.0.0,>=4.41.0 in /usr/local/lib/python3.11/dist-packages (from sentence-transformers) (4.50.0)\n",
            "Requirement already satisfied: tqdm in /usr/local/lib/python3.11/dist-packages (from sentence-transformers) (4.67.1)\n",
            "Requirement already satisfied: torch>=1.11.0 in /usr/local/lib/python3.11/dist-packages (from sentence-transformers) (2.6.0+cu124)\n",
            "Requirement already satisfied: scikit-learn in /usr/local/lib/python3.11/dist-packages (from sentence-transformers) (1.6.1)\n",
            "Requirement already satisfied: scipy in /usr/local/lib/python3.11/dist-packages (from sentence-transformers) (1.14.1)\n",
            "Requirement already satisfied: huggingface-hub>=0.20.0 in /usr/local/lib/python3.11/dist-packages (from sentence-transformers) (0.29.3)\n",
            "Requirement already satisfied: Pillow in /usr/local/lib/python3.11/dist-packages (from sentence-transformers) (11.1.0)\n",
            "Requirement already satisfied: requests in /usr/local/lib/python3.11/dist-packages (from serpapi) (2.32.3)\n",
            "Requirement already satisfied: inflection>=0.5.1 in /usr/local/lib/python3.11/dist-packages (from openapi) (0.5.1)\n",
            "Requirement already satisfied: jsonschema>=3.2.0 in /usr/local/lib/python3.11/dist-packages (from openapi) (4.23.0)\n",
            "Requirement already satisfied: pandas>=1.5.0 in /usr/local/lib/python3.11/dist-packages (from fastparquet) (2.2.2)\n",
            "Requirement already satisfied: numpy in /usr/local/lib/python3.11/dist-packages (from fastparquet) (2.0.2)\n",
            "Requirement already satisfied: cramjam>=2.3 in /usr/local/lib/python3.11/dist-packages (from fastparquet) (2.9.1)\n",
            "Requirement already satisfied: fsspec in /usr/local/lib/python3.11/dist-packages (from fastparquet) (2025.3.0)\n",
            "Requirement already satisfied: packaging in /usr/local/lib/python3.11/dist-packages (from fastparquet) (24.2)\n",
            "Requirement already satisfied: filelock in /usr/local/lib/python3.11/dist-packages (from huggingface-hub>=0.20.0->sentence-transformers) (3.18.0)\n",
            "Requirement already satisfied: pyyaml>=5.1 in /usr/local/lib/python3.11/dist-packages (from huggingface-hub>=0.20.0->sentence-transformers) (6.0.2)\n",
            "Requirement already satisfied: attrs>=22.2.0 in /usr/local/lib/python3.11/dist-packages (from jsonschema>=3.2.0->openapi) (25.3.0)\n",
            "Requirement already satisfied: jsonschema-specifications>=2023.03.6 in /usr/local/lib/python3.11/dist-packages (from jsonschema>=3.2.0->openapi) (2024.10.1)\n",
            "Requirement already satisfied: referencing>=0.28.4 in /usr/local/lib/python3.11/dist-packages (from jsonschema>=3.2.0->openapi) (0.36.2)\n",
            "Requirement already satisfied: rpds-py>=0.7.1 in /usr/local/lib/python3.11/dist-packages (from jsonschema>=3.2.0->openapi) (0.23.1)\n",
            "Requirement already satisfied: pytz>=2020.1 in /usr/local/lib/python3.11/dist-packages (from pandas>=1.5.0->fastparquet) (2025.1)\n",
            "Requirement already satisfied: tzdata>=2022.7 in /usr/local/lib/python3.11/dist-packages (from pandas>=1.5.0->fastparquet) (2025.1)\n",
            "Requirement already satisfied: six>=1.5 in /usr/local/lib/python3.11/dist-packages (from python-dateutil>=2.5.3->pinecone) (1.17.0)\n",
            "Requirement already satisfied: networkx in /usr/local/lib/python3.11/dist-packages (from torch>=1.11.0->sentence-transformers) (3.4.2)\n",
            "Requirement already satisfied: jinja2 in /usr/local/lib/python3.11/dist-packages (from torch>=1.11.0->sentence-transformers) (3.1.6)\n",
            "Requirement already satisfied: nvidia-cuda-nvrtc-cu12==12.4.127 in /usr/local/lib/python3.11/dist-packages (from torch>=1.11.0->sentence-transformers) (12.4.127)\n",
            "Requirement already satisfied: nvidia-cuda-runtime-cu12==12.4.127 in /usr/local/lib/python3.11/dist-packages (from torch>=1.11.0->sentence-transformers) (12.4.127)\n",
            "Requirement already satisfied: nvidia-cuda-cupti-cu12==12.4.127 in /usr/local/lib/python3.11/dist-packages (from torch>=1.11.0->sentence-transformers) (12.4.127)\n",
            "Requirement already satisfied: nvidia-cudnn-cu12==9.1.0.70 in /usr/local/lib/python3.11/dist-packages (from torch>=1.11.0->sentence-transformers) (9.1.0.70)\n",
            "Requirement already satisfied: nvidia-cublas-cu12==12.4.5.8 in /usr/local/lib/python3.11/dist-packages (from torch>=1.11.0->sentence-transformers) (12.4.5.8)\n",
            "Requirement already satisfied: nvidia-cufft-cu12==11.2.1.3 in /usr/local/lib/python3.11/dist-packages (from torch>=1.11.0->sentence-transformers) (11.2.1.3)\n",
            "Requirement already satisfied: nvidia-curand-cu12==10.3.5.147 in /usr/local/lib/python3.11/dist-packages (from torch>=1.11.0->sentence-transformers) (10.3.5.147)\n",
            "Requirement already satisfied: nvidia-cusolver-cu12==11.6.1.9 in /usr/local/lib/python3.11/dist-packages (from torch>=1.11.0->sentence-transformers) (11.6.1.9)\n",
            "Requirement already satisfied: nvidia-cusparse-cu12==12.3.1.170 in /usr/local/lib/python3.11/dist-packages (from torch>=1.11.0->sentence-transformers) (12.3.1.170)\n",
            "Requirement already satisfied: nvidia-cusparselt-cu12==0.6.2 in /usr/local/lib/python3.11/dist-packages (from torch>=1.11.0->sentence-transformers) (0.6.2)\n",
            "Requirement already satisfied: nvidia-nccl-cu12==2.21.5 in /usr/local/lib/python3.11/dist-packages (from torch>=1.11.0->sentence-transformers) (2.21.5)\n",
            "Requirement already satisfied: nvidia-nvtx-cu12==12.4.127 in /usr/local/lib/python3.11/dist-packages (from torch>=1.11.0->sentence-transformers) (12.4.127)\n",
            "Requirement already satisfied: nvidia-nvjitlink-cu12==12.4.127 in /usr/local/lib/python3.11/dist-packages (from torch>=1.11.0->sentence-transformers) (12.4.127)\n",
            "Requirement already satisfied: triton==3.2.0 in /usr/local/lib/python3.11/dist-packages (from torch>=1.11.0->sentence-transformers) (3.2.0)\n",
            "Requirement already satisfied: sympy==1.13.1 in /usr/local/lib/python3.11/dist-packages (from torch>=1.11.0->sentence-transformers) (1.13.1)\n",
            "Requirement already satisfied: mpmath<1.4,>=1.1.0 in /usr/local/lib/python3.11/dist-packages (from sympy==1.13.1->torch>=1.11.0->sentence-transformers) (1.3.0)\n",
            "Requirement already satisfied: regex!=2019.12.17 in /usr/local/lib/python3.11/dist-packages (from transformers<5.0.0,>=4.41.0->sentence-transformers) (2024.11.6)\n",
            "Requirement already satisfied: tokenizers<0.22,>=0.21 in /usr/local/lib/python3.11/dist-packages (from transformers<5.0.0,>=4.41.0->sentence-transformers) (0.21.1)\n",
            "Requirement already satisfied: safetensors>=0.4.3 in /usr/local/lib/python3.11/dist-packages (from transformers<5.0.0,>=4.41.0->sentence-transformers) (0.5.3)\n",
            "Requirement already satisfied: charset-normalizer<4,>=2 in /usr/local/lib/python3.11/dist-packages (from requests->serpapi) (3.4.1)\n",
            "Requirement already satisfied: idna<4,>=2.5 in /usr/local/lib/python3.11/dist-packages (from requests->serpapi) (3.10)\n",
            "Requirement already satisfied: joblib>=1.2.0 in /usr/local/lib/python3.11/dist-packages (from scikit-learn->sentence-transformers) (1.4.2)\n",
            "Requirement already satisfied: threadpoolctl>=3.1.0 in /usr/local/lib/python3.11/dist-packages (from scikit-learn->sentence-transformers) (3.6.0)\n",
            "Requirement already satisfied: MarkupSafe>=2.0 in /usr/local/lib/python3.11/dist-packages (from jinja2->torch>=1.11.0->sentence-transformers) (3.0.2)\n"
          ]
        }
      ],
      "source": [
        "!pip install langchain langgraph langchain-huggingface langchain-ollama langchain-openai langchain-community\n",
        "!pip install pinecone sentence-transformers pymupdf serpapi google-search-results openapi pyarrow fastparquet"
      ]
    },
    {
      "cell_type": "code",
      "execution_count": 2,
      "id": "Nk1f9aUUfe_b",
      "metadata": {
        "colab": {
          "base_uri": "https://localhost:8080/",
          "height": 0
        },
        "id": "Nk1f9aUUfe_b",
        "outputId": "93980fc5-31eb-4d65-e67e-9b907bd81a7b"
      },
      "outputs": [
        {
          "name": "stdout",
          "output_type": "stream",
          "text": [
            "Requirement already satisfied: gradio in /usr/local/lib/python3.11/dist-packages (5.23.1)\n",
            "Requirement already satisfied: aiofiles<24.0,>=22.0 in /usr/local/lib/python3.11/dist-packages (from gradio) (23.2.1)\n",
            "Requirement already satisfied: anyio<5.0,>=3.0 in /usr/local/lib/python3.11/dist-packages (from gradio) (4.9.0)\n",
            "Requirement already satisfied: fastapi<1.0,>=0.115.2 in /usr/local/lib/python3.11/dist-packages (from gradio) (0.115.12)\n",
            "Requirement already satisfied: ffmpy in /usr/local/lib/python3.11/dist-packages (from gradio) (0.5.0)\n",
            "Requirement already satisfied: gradio-client==1.8.0 in /usr/local/lib/python3.11/dist-packages (from gradio) (1.8.0)\n",
            "Requirement already satisfied: groovy~=0.1 in /usr/local/lib/python3.11/dist-packages (from gradio) (0.1.2)\n",
            "Requirement already satisfied: httpx>=0.24.1 in /usr/local/lib/python3.11/dist-packages (from gradio) (0.28.1)\n",
            "Requirement already satisfied: huggingface-hub>=0.28.1 in /usr/local/lib/python3.11/dist-packages (from gradio) (0.29.3)\n",
            "Requirement already satisfied: jinja2<4.0 in /usr/local/lib/python3.11/dist-packages (from gradio) (3.1.6)\n",
            "Requirement already satisfied: markupsafe<4.0,>=2.0 in /usr/local/lib/python3.11/dist-packages (from gradio) (3.0.2)\n",
            "Requirement already satisfied: numpy<3.0,>=1.0 in /usr/local/lib/python3.11/dist-packages (from gradio) (2.0.2)\n",
            "Requirement already satisfied: orjson~=3.0 in /usr/local/lib/python3.11/dist-packages (from gradio) (3.10.15)\n",
            "Requirement already satisfied: packaging in /usr/local/lib/python3.11/dist-packages (from gradio) (24.2)\n",
            "Requirement already satisfied: pandas<3.0,>=1.0 in /usr/local/lib/python3.11/dist-packages (from gradio) (2.2.2)\n",
            "Requirement already satisfied: pillow<12.0,>=8.0 in /usr/local/lib/python3.11/dist-packages (from gradio) (11.1.0)\n",
            "Requirement already satisfied: pydantic>=2.0 in /usr/local/lib/python3.11/dist-packages (from gradio) (2.10.6)\n",
            "Requirement already satisfied: pydub in /usr/local/lib/python3.11/dist-packages (from gradio) (0.25.1)\n",
            "Requirement already satisfied: python-multipart>=0.0.18 in /usr/local/lib/python3.11/dist-packages (from gradio) (0.0.20)\n",
            "Requirement already satisfied: pyyaml<7.0,>=5.0 in /usr/local/lib/python3.11/dist-packages (from gradio) (6.0.2)\n",
            "Requirement already satisfied: ruff>=0.9.3 in /usr/local/lib/python3.11/dist-packages (from gradio) (0.11.2)\n",
            "Requirement already satisfied: safehttpx<0.2.0,>=0.1.6 in /usr/local/lib/python3.11/dist-packages (from gradio) (0.1.6)\n",
            "Requirement already satisfied: semantic-version~=2.0 in /usr/local/lib/python3.11/dist-packages (from gradio) (2.10.0)\n",
            "Requirement already satisfied: starlette<1.0,>=0.40.0 in /usr/local/lib/python3.11/dist-packages (from gradio) (0.46.1)\n",
            "Requirement already satisfied: tomlkit<0.14.0,>=0.12.0 in /usr/local/lib/python3.11/dist-packages (from gradio) (0.13.2)\n",
            "Requirement already satisfied: typer<1.0,>=0.12 in /usr/local/lib/python3.11/dist-packages (from gradio) (0.15.2)\n",
            "Requirement already satisfied: typing-extensions~=4.0 in /usr/local/lib/python3.11/dist-packages (from gradio) (4.12.2)\n",
            "Requirement already satisfied: uvicorn>=0.14.0 in /usr/local/lib/python3.11/dist-packages (from gradio) (0.34.0)\n",
            "Requirement already satisfied: fsspec in /usr/local/lib/python3.11/dist-packages (from gradio-client==1.8.0->gradio) (2025.3.0)\n",
            "Requirement already satisfied: websockets<16.0,>=10.0 in /usr/local/lib/python3.11/dist-packages (from gradio-client==1.8.0->gradio) (15.0.1)\n",
            "Requirement already satisfied: idna>=2.8 in /usr/local/lib/python3.11/dist-packages (from anyio<5.0,>=3.0->gradio) (3.10)\n",
            "Requirement already satisfied: sniffio>=1.1 in /usr/local/lib/python3.11/dist-packages (from anyio<5.0,>=3.0->gradio) (1.3.1)\n",
            "Requirement already satisfied: certifi in /usr/local/lib/python3.11/dist-packages (from httpx>=0.24.1->gradio) (2025.1.31)\n",
            "Requirement already satisfied: httpcore==1.* in /usr/local/lib/python3.11/dist-packages (from httpx>=0.24.1->gradio) (1.0.7)\n",
            "Requirement already satisfied: h11<0.15,>=0.13 in /usr/local/lib/python3.11/dist-packages (from httpcore==1.*->httpx>=0.24.1->gradio) (0.14.0)\n",
            "Requirement already satisfied: filelock in /usr/local/lib/python3.11/dist-packages (from huggingface-hub>=0.28.1->gradio) (3.18.0)\n",
            "Requirement already satisfied: requests in /usr/local/lib/python3.11/dist-packages (from huggingface-hub>=0.28.1->gradio) (2.32.3)\n",
            "Requirement already satisfied: tqdm>=4.42.1 in /usr/local/lib/python3.11/dist-packages (from huggingface-hub>=0.28.1->gradio) (4.67.1)\n",
            "Requirement already satisfied: python-dateutil>=2.8.2 in /usr/local/lib/python3.11/dist-packages (from pandas<3.0,>=1.0->gradio) (2.8.2)\n",
            "Requirement already satisfied: pytz>=2020.1 in /usr/local/lib/python3.11/dist-packages (from pandas<3.0,>=1.0->gradio) (2025.1)\n",
            "Requirement already satisfied: tzdata>=2022.7 in /usr/local/lib/python3.11/dist-packages (from pandas<3.0,>=1.0->gradio) (2025.1)\n",
            "Requirement already satisfied: annotated-types>=0.6.0 in /usr/local/lib/python3.11/dist-packages (from pydantic>=2.0->gradio) (0.7.0)\n",
            "Requirement already satisfied: pydantic-core==2.27.2 in /usr/local/lib/python3.11/dist-packages (from pydantic>=2.0->gradio) (2.27.2)\n",
            "Requirement already satisfied: click>=8.0.0 in /usr/local/lib/python3.11/dist-packages (from typer<1.0,>=0.12->gradio) (8.1.8)\n",
            "Requirement already satisfied: shellingham>=1.3.0 in /usr/local/lib/python3.11/dist-packages (from typer<1.0,>=0.12->gradio) (1.5.4)\n",
            "Requirement already satisfied: rich>=10.11.0 in /usr/local/lib/python3.11/dist-packages (from typer<1.0,>=0.12->gradio) (13.9.4)\n",
            "Requirement already satisfied: six>=1.5 in /usr/local/lib/python3.11/dist-packages (from python-dateutil>=2.8.2->pandas<3.0,>=1.0->gradio) (1.17.0)\n",
            "Requirement already satisfied: markdown-it-py>=2.2.0 in /usr/local/lib/python3.11/dist-packages (from rich>=10.11.0->typer<1.0,>=0.12->gradio) (3.0.0)\n",
            "Requirement already satisfied: pygments<3.0.0,>=2.13.0 in /usr/local/lib/python3.11/dist-packages (from rich>=10.11.0->typer<1.0,>=0.12->gradio) (2.18.0)\n",
            "Requirement already satisfied: charset-normalizer<4,>=2 in /usr/local/lib/python3.11/dist-packages (from requests->huggingface-hub>=0.28.1->gradio) (3.4.1)\n",
            "Requirement already satisfied: urllib3<3,>=1.21.1 in /usr/local/lib/python3.11/dist-packages (from requests->huggingface-hub>=0.28.1->gradio) (2.3.0)\n",
            "Requirement already satisfied: mdurl~=0.1 in /usr/local/lib/python3.11/dist-packages (from markdown-it-py>=2.2.0->rich>=10.11.0->typer<1.0,>=0.12->gradio) (0.1.2)\n"
          ]
        }
      ],
      "source": [
        "pip install gradio"
      ]
    },
    {
      "cell_type": "code",
      "execution_count": 3,
      "id": "43fa994d-a903-4a8c-b603-a4622abac585",
      "metadata": {
        "id": "43fa994d-a903-4a8c-b603-a4622abac585"
      },
      "outputs": [],
      "source": [
        "import fitz  # PyMuPDF for PDF processing\n",
        "from datetime import datetime\n",
        "from langchain.text_splitter import RecursiveCharacterTextSplitter\n",
        "from langchain_huggingface import HuggingFaceEmbeddings\n",
        "from langchain.memory import ConversationBufferMemory\n",
        "from langchain_core.output_parsers import StrOutputParser\n",
        "from langchain_core.prompts import ChatPromptTemplate\n",
        "from pinecone import Pinecone\n",
        "from langgraph.graph import StateGraph, MessagesState, START, END\n",
        "from langgraph.prebuilt import ToolNode, tools_condition\n",
        "from langchain.tools import Tool\n",
        "from sentence_transformers import CrossEncoder, SentenceTransformer\n",
        "from langchain.output_parsers import PydanticOutputParser\n",
        "from pydantic import BaseModel, Field\n",
        "from langchain.utilities import SerpAPIWrapper\n",
        "from langchain_core.messages import SystemMessage, HumanMessage\n",
        "from typing import TypedDict\n",
        "import pandas as pd\n",
        "import os"
      ]
    },
    {
      "cell_type": "markdown",
      "id": "Dsp-Ke48DGfv",
      "metadata": {
        "id": "Dsp-Ke48DGfv"
      },
      "source": []
    },
    {
      "cell_type": "code",
      "execution_count": 4,
      "id": "nhHy8iVloZHw",
      "metadata": {
        "colab": {
          "base_uri": "https://localhost:8080/",
          "height": 0
        },
        "id": "nhHy8iVloZHw",
        "outputId": "3e5dce8e-64bb-4ed6-f1fd-cdf5620e21c0"
      },
      "outputs": [
        {
          "name": "stdout",
          "output_type": "stream",
          "text": [
            "Drive already mounted at /content/drive; to attempt to forcibly remount, call drive.mount(\"/content/drive\", force_remount=True).\n"
          ]
        }
      ],
      "source": [
        "# Fetch folders from google drive into the current session\n",
        "# !pip install gdown\n",
        "# !gdown --folder https://drive.google.com/drive/folders/1E4LtM210hm0wTNm7sYJUCZsk9l0TTytV?usp=sharing\n",
        "\n",
        "# folder_path = \"/content/data/\"\n",
        "\n",
        "from google.colab import drive\n",
        "drive.mount('/content/drive')\n",
        "\n",
        "folder_path = \"/content/drive/My Drive/GenAI/data/\""
      ]
    },
    {
      "cell_type": "code",
      "execution_count": null,
      "id": "7c816647-62a0-4909-813f-51129e4efc36",
      "metadata": {
        "colab": {
          "base_uri": "https://localhost:8080/",
          "height": 0
        },
        "collapsed": true,
        "id": "7c816647-62a0-4909-813f-51129e4efc36",
        "outputId": "67134a84-14cb-4725-81fd-9c436fcdae58"
      },
      "outputs": [
        {
          "name": "stderr",
          "output_type": "stream",
          "text": [
            "/usr/local/lib/python3.11/dist-packages/huggingface_hub/utils/_auth.py:94: UserWarning: \n",
            "The secret `HF_TOKEN` does not exist in your Colab secrets.\n",
            "To authenticate with the Hugging Face Hub, create a token in your settings tab (https://huggingface.co/settings/tokens), set it as secret in your Google Colab and restart your session.\n",
            "You will be able to reuse this secret in all of your notebooks.\n",
            "Please note that authentication is recommended but still optional to access public models or datasets.\n",
            "  warnings.warn(\n",
            "<ipython-input-5-6b17b6ba41e4>:15: LangChainDeprecationWarning: Please see the migration guide at: https://python.langchain.com/docs/versions/migrating_memory/\n",
            "  memory = ConversationBufferMemory(memory_key=\"chat_history\", return_messages=True)\n"
          ]
        }
      ],
      "source": [
        "os.environ[\"SERPAPI_API_KEY\"] = <SERPAPI_API_KEY>\n",
        "os.environ['PINECONE_API_KEY'] = <PINECONE_API_KEY>\n",
        "os.environ[\"OPENAI_API_KEY\"] = <OPENAI_API_KEY>\n",
        "\n",
        "# Setup vector database\n",
        "pinecone_api_key = os.getenv(\"PINECONE_API_KEY\")\n",
        "\n",
        "pc = Pinecone(api_key=pinecone_api_key)\n",
        "index_name = \"profilestore\"\n",
        "index = pc.Index(index_name)\n",
        "\n",
        "embedder = HuggingFaceEmbeddings(model_name = 'BAAI/bge-base-en-v1.5')\n",
        "\n",
        "# Conversation history\n",
        "memory = ConversationBufferMemory(memory_key=\"chat_history\", return_messages=True)\n",
        "\n",
        "# SerpAPI\n",
        "serpapi_tools = SerpAPIWrapper(serpapi_api_key=os.getenv(\"SERPAPI_API_KEY\"))"
      ]
    },
    {
      "cell_type": "code",
      "execution_count": 6,
      "id": "8qRSDFivQ61t",
      "metadata": {
        "id": "8qRSDFivQ61t"
      },
      "outputs": [],
      "source": [
        "# OpenAI\n",
        "import openai\n",
        "from langchain_openai import ChatOpenAI,OpenAI\n",
        "\n",
        "openai.api_key = os.getenv(\"OPENAI_API_KEY\")\n",
        "openaillm = ChatOpenAI(model = \"gpt-4-turbo\", temperature=0.5)\n"
      ]
    },
    {
      "cell_type": "code",
      "execution_count": 7,
      "id": "LAVUhpz5FAH8",
      "metadata": {
        "colab": {
          "base_uri": "https://localhost:8080/",
          "height": 0
        },
        "id": "LAVUhpz5FAH8",
        "outputId": "f61532ac-c69a-43b7-c29c-9d8e8703b608"
      },
      "outputs": [
        {
          "name": "stdout",
          "output_type": "stream",
          "text": [
            "Requirement already satisfied: langchain_experimental in /usr/local/lib/python3.11/dist-packages (0.3.4)\n",
            "Requirement already satisfied: langchain-community<0.4.0,>=0.3.0 in /usr/local/lib/python3.11/dist-packages (from langchain_experimental) (0.3.20)\n",
            "Requirement already satisfied: langchain-core<0.4.0,>=0.3.28 in /usr/local/lib/python3.11/dist-packages (from langchain_experimental) (0.3.48)\n",
            "Requirement already satisfied: langchain<1.0.0,>=0.3.21 in /usr/local/lib/python3.11/dist-packages (from langchain-community<0.4.0,>=0.3.0->langchain_experimental) (0.3.21)\n",
            "Requirement already satisfied: SQLAlchemy<3,>=1.4 in /usr/local/lib/python3.11/dist-packages (from langchain-community<0.4.0,>=0.3.0->langchain_experimental) (2.0.39)\n",
            "Requirement already satisfied: requests<3,>=2 in /usr/local/lib/python3.11/dist-packages (from langchain-community<0.4.0,>=0.3.0->langchain_experimental) (2.32.3)\n",
            "Requirement already satisfied: PyYAML>=5.3 in /usr/local/lib/python3.11/dist-packages (from langchain-community<0.4.0,>=0.3.0->langchain_experimental) (6.0.2)\n",
            "Requirement already satisfied: aiohttp<4.0.0,>=3.8.3 in /usr/local/lib/python3.11/dist-packages (from langchain-community<0.4.0,>=0.3.0->langchain_experimental) (3.11.14)\n",
            "Requirement already satisfied: tenacity!=8.4.0,<10,>=8.1.0 in /usr/local/lib/python3.11/dist-packages (from langchain-community<0.4.0,>=0.3.0->langchain_experimental) (9.0.0)\n",
            "Requirement already satisfied: dataclasses-json<0.7,>=0.5.7 in /usr/local/lib/python3.11/dist-packages (from langchain-community<0.4.0,>=0.3.0->langchain_experimental) (0.6.7)\n",
            "Requirement already satisfied: pydantic-settings<3.0.0,>=2.4.0 in /usr/local/lib/python3.11/dist-packages (from langchain-community<0.4.0,>=0.3.0->langchain_experimental) (2.8.1)\n",
            "Requirement already satisfied: langsmith<0.4,>=0.1.125 in /usr/local/lib/python3.11/dist-packages (from langchain-community<0.4.0,>=0.3.0->langchain_experimental) (0.3.18)\n",
            "Requirement already satisfied: httpx-sse<1.0.0,>=0.4.0 in /usr/local/lib/python3.11/dist-packages (from langchain-community<0.4.0,>=0.3.0->langchain_experimental) (0.4.0)\n",
            "Requirement already satisfied: numpy<3,>=1.26.2 in /usr/local/lib/python3.11/dist-packages (from langchain-community<0.4.0,>=0.3.0->langchain_experimental) (2.0.2)\n",
            "Requirement already satisfied: jsonpatch<2.0,>=1.33 in /usr/local/lib/python3.11/dist-packages (from langchain-core<0.4.0,>=0.3.28->langchain_experimental) (1.33)\n",
            "Requirement already satisfied: packaging<25,>=23.2 in /usr/local/lib/python3.11/dist-packages (from langchain-core<0.4.0,>=0.3.28->langchain_experimental) (24.2)\n",
            "Requirement already satisfied: typing-extensions>=4.7 in /usr/local/lib/python3.11/dist-packages (from langchain-core<0.4.0,>=0.3.28->langchain_experimental) (4.12.2)\n",
            "Requirement already satisfied: pydantic<3.0.0,>=2.5.2 in /usr/local/lib/python3.11/dist-packages (from langchain-core<0.4.0,>=0.3.28->langchain_experimental) (2.10.6)\n",
            "Requirement already satisfied: aiohappyeyeballs>=2.3.0 in /usr/local/lib/python3.11/dist-packages (from aiohttp<4.0.0,>=3.8.3->langchain-community<0.4.0,>=0.3.0->langchain_experimental) (2.6.1)\n",
            "Requirement already satisfied: aiosignal>=1.1.2 in /usr/local/lib/python3.11/dist-packages (from aiohttp<4.0.0,>=3.8.3->langchain-community<0.4.0,>=0.3.0->langchain_experimental) (1.3.2)\n",
            "Requirement already satisfied: attrs>=17.3.0 in /usr/local/lib/python3.11/dist-packages (from aiohttp<4.0.0,>=3.8.3->langchain-community<0.4.0,>=0.3.0->langchain_experimental) (25.3.0)\n",
            "Requirement already satisfied: frozenlist>=1.1.1 in /usr/local/lib/python3.11/dist-packages (from aiohttp<4.0.0,>=3.8.3->langchain-community<0.4.0,>=0.3.0->langchain_experimental) (1.5.0)\n",
            "Requirement already satisfied: multidict<7.0,>=4.5 in /usr/local/lib/python3.11/dist-packages (from aiohttp<4.0.0,>=3.8.3->langchain-community<0.4.0,>=0.3.0->langchain_experimental) (6.2.0)\n",
            "Requirement already satisfied: propcache>=0.2.0 in /usr/local/lib/python3.11/dist-packages (from aiohttp<4.0.0,>=3.8.3->langchain-community<0.4.0,>=0.3.0->langchain_experimental) (0.3.0)\n",
            "Requirement already satisfied: yarl<2.0,>=1.17.0 in /usr/local/lib/python3.11/dist-packages (from aiohttp<4.0.0,>=3.8.3->langchain-community<0.4.0,>=0.3.0->langchain_experimental) (1.18.3)\n",
            "Requirement already satisfied: marshmallow<4.0.0,>=3.18.0 in /usr/local/lib/python3.11/dist-packages (from dataclasses-json<0.7,>=0.5.7->langchain-community<0.4.0,>=0.3.0->langchain_experimental) (3.26.1)\n",
            "Requirement already satisfied: typing-inspect<1,>=0.4.0 in /usr/local/lib/python3.11/dist-packages (from dataclasses-json<0.7,>=0.5.7->langchain-community<0.4.0,>=0.3.0->langchain_experimental) (0.9.0)\n",
            "Requirement already satisfied: jsonpointer>=1.9 in /usr/local/lib/python3.11/dist-packages (from jsonpatch<2.0,>=1.33->langchain-core<0.4.0,>=0.3.28->langchain_experimental) (3.0.0)\n",
            "Requirement already satisfied: langchain-text-splitters<1.0.0,>=0.3.7 in /usr/local/lib/python3.11/dist-packages (from langchain<1.0.0,>=0.3.21->langchain-community<0.4.0,>=0.3.0->langchain_experimental) (0.3.7)\n",
            "Requirement already satisfied: httpx<1,>=0.23.0 in /usr/local/lib/python3.11/dist-packages (from langsmith<0.4,>=0.1.125->langchain-community<0.4.0,>=0.3.0->langchain_experimental) (0.28.1)\n",
            "Requirement already satisfied: orjson<4.0.0,>=3.9.14 in /usr/local/lib/python3.11/dist-packages (from langsmith<0.4,>=0.1.125->langchain-community<0.4.0,>=0.3.0->langchain_experimental) (3.10.15)\n",
            "Requirement already satisfied: requests-toolbelt<2.0.0,>=1.0.0 in /usr/local/lib/python3.11/dist-packages (from langsmith<0.4,>=0.1.125->langchain-community<0.4.0,>=0.3.0->langchain_experimental) (1.0.0)\n",
            "Requirement already satisfied: zstandard<0.24.0,>=0.23.0 in /usr/local/lib/python3.11/dist-packages (from langsmith<0.4,>=0.1.125->langchain-community<0.4.0,>=0.3.0->langchain_experimental) (0.23.0)\n",
            "Requirement already satisfied: annotated-types>=0.6.0 in /usr/local/lib/python3.11/dist-packages (from pydantic<3.0.0,>=2.5.2->langchain-core<0.4.0,>=0.3.28->langchain_experimental) (0.7.0)\n",
            "Requirement already satisfied: pydantic-core==2.27.2 in /usr/local/lib/python3.11/dist-packages (from pydantic<3.0.0,>=2.5.2->langchain-core<0.4.0,>=0.3.28->langchain_experimental) (2.27.2)\n",
            "Requirement already satisfied: python-dotenv>=0.21.0 in /usr/local/lib/python3.11/dist-packages (from pydantic-settings<3.0.0,>=2.4.0->langchain-community<0.4.0,>=0.3.0->langchain_experimental) (1.1.0)\n",
            "Requirement already satisfied: charset-normalizer<4,>=2 in /usr/local/lib/python3.11/dist-packages (from requests<3,>=2->langchain-community<0.4.0,>=0.3.0->langchain_experimental) (3.4.1)\n",
            "Requirement already satisfied: idna<4,>=2.5 in /usr/local/lib/python3.11/dist-packages (from requests<3,>=2->langchain-community<0.4.0,>=0.3.0->langchain_experimental) (3.10)\n",
            "Requirement already satisfied: urllib3<3,>=1.21.1 in /usr/local/lib/python3.11/dist-packages (from requests<3,>=2->langchain-community<0.4.0,>=0.3.0->langchain_experimental) (2.3.0)\n",
            "Requirement already satisfied: certifi>=2017.4.17 in /usr/local/lib/python3.11/dist-packages (from requests<3,>=2->langchain-community<0.4.0,>=0.3.0->langchain_experimental) (2025.1.31)\n",
            "Requirement already satisfied: greenlet!=0.4.17 in /usr/local/lib/python3.11/dist-packages (from SQLAlchemy<3,>=1.4->langchain-community<0.4.0,>=0.3.0->langchain_experimental) (3.1.1)\n",
            "Requirement already satisfied: anyio in /usr/local/lib/python3.11/dist-packages (from httpx<1,>=0.23.0->langsmith<0.4,>=0.1.125->langchain-community<0.4.0,>=0.3.0->langchain_experimental) (4.9.0)\n",
            "Requirement already satisfied: httpcore==1.* in /usr/local/lib/python3.11/dist-packages (from httpx<1,>=0.23.0->langsmith<0.4,>=0.1.125->langchain-community<0.4.0,>=0.3.0->langchain_experimental) (1.0.7)\n",
            "Requirement already satisfied: h11<0.15,>=0.13 in /usr/local/lib/python3.11/dist-packages (from httpcore==1.*->httpx<1,>=0.23.0->langsmith<0.4,>=0.1.125->langchain-community<0.4.0,>=0.3.0->langchain_experimental) (0.14.0)\n",
            "Requirement already satisfied: mypy-extensions>=0.3.0 in /usr/local/lib/python3.11/dist-packages (from typing-inspect<1,>=0.4.0->dataclasses-json<0.7,>=0.5.7->langchain-community<0.4.0,>=0.3.0->langchain_experimental) (1.0.0)\n",
            "Requirement already satisfied: sniffio>=1.1 in /usr/local/lib/python3.11/dist-packages (from anyio->httpx<1,>=0.23.0->langsmith<0.4,>=0.1.125->langchain-community<0.4.0,>=0.3.0->langchain_experimental) (1.3.1)\n"
          ]
        }
      ],
      "source": [
        "pip install langchain_experimental"
      ]
    },
    {
      "cell_type": "code",
      "execution_count": 8,
      "id": "7686fe5d-3d2c-476b-a454-ac0db6ce5fe8",
      "metadata": {
        "colab": {
          "base_uri": "https://localhost:8080/",
          "height": 0
        },
        "id": "7686fe5d-3d2c-476b-a454-ac0db6ce5fe8",
        "outputId": "3ccc3419-c244-47d7-cea3-925b9f2c7c68"
      },
      "outputs": [
        {
          "data": {
            "text/plain": [
              "RunnableBinding(bound=ChatOpenAI(client=<openai.resources.chat.completions.completions.Completions object at 0x7d9111364ed0>, async_client=<openai.resources.chat.completions.completions.AsyncCompletions object at 0x7d91117a4250>, root_client=<openai.OpenAI object at 0x7d911179ff10>, root_async_client=<openai.AsyncOpenAI object at 0x7d91117a6d50>, model_name='gpt-4-turbo', temperature=0.5, model_kwargs={}, openai_api_key=SecretStr('**********')), kwargs={'tools': [{'type': 'function', 'function': {'name': 'SerpAPI_Search', 'description': 'latest banking fraud detection site:fincen.gov OR site:fbi.gov OR site:forbes.com OR site:bloomberg.com', 'parameters': {'properties': {'__arg1': {'title': '__arg1', 'type': 'string'}}, 'required': ['__arg1'], 'type': 'object'}}}, {'type': 'function', 'function': {'name': 'SerpAPI_Search', 'description': 'latest financial fraud trends 2025 OR money laundering techniques 2025', 'parameters': {'properties': {'__arg1': {'title': '__arg1', 'type': 'string'}}, 'required': ['__arg1'], 'type': 'object'}}}, {'type': 'function', 'function': {'name': 'Python REPL', 'description': 'Useful for executing math operations', 'parameters': {'properties': {'__arg1': {'title': '__arg1', 'type': 'string'}}, 'required': ['__arg1'], 'type': 'object'}}}]}, config={}, config_factories=[])"
            ]
          },
          "execution_count": 8,
          "metadata": {},
          "output_type": "execute_result"
        }
      ],
      "source": [
        "from langchain_experimental.tools import PythonREPLTool\n",
        "\n",
        "current_year = datetime.now().year\n",
        "\n",
        "\n",
        "python_repl = PythonREPLTool()\n",
        "math_tool = Tool(name=\"Python REPL\", func=python_repl.run, description=\"Useful for executing math operations\")\n",
        "\n",
        "def serapi_search(query):\n",
        "    return serpapi_tools.run(query)\n",
        "\n",
        "fraud_tool = Tool(\n",
        "    name = \"SerpAPI_Search\",\n",
        "    func = serapi_search,\n",
        "    description = \"latest banking fraud detection site:fincen.gov OR site:fbi.gov OR site:forbes.com OR site:bloomberg.com\"\n",
        ")\n",
        "\n",
        "financial_tool = Tool(\n",
        "    name = \"SerpAPI_Search\",\n",
        "    func = serapi_search,\n",
        "    description = f\"latest financial fraud trends {current_year} OR money laundering techniques {current_year}\"\n",
        ")\n",
        "\n",
        "tools = [fraud_tool,financial_tool, math_tool]\n",
        "openaillm.bind_tools(tools)"
      ]
    },
    {
      "cell_type": "code",
      "execution_count": 9,
      "id": "35c678bf-79b3-467e-adf5-351205581596",
      "metadata": {
        "id": "35c678bf-79b3-467e-adf5-351205581596"
      },
      "outputs": [],
      "source": [
        "from sklearn.ensemble import IsolationForest\n",
        "import joblib\n",
        "\n",
        "class ModelParams(BaseModel):\n",
        "    gender: str = Field()\n",
        "    amt: int = Field()\n",
        "    unix_time: int = Field()\n",
        "    category: str = Field()\n",
        "    merchant: str = Field()\n",
        "    city_pop: int = Field()\n",
        "\n",
        "model_parser = PydanticOutputParser(pydantic_object=ModelParams)\n",
        "\n",
        "def fraud_detection_check(query):\n",
        "    print(\"Query output \" + str(query))\n",
        "    # Load model\n",
        "    model = joblib.load(folder_path + 'unsupervised learning/isolation_forest_model.joblib')\n",
        "    features = [\"gender\", \"amt\", \"unix_time\", \"category\", \"merchant\", \"city_pop\"]\n",
        "\n",
        "    # ✅ Check model type\n",
        "    if not isinstance(model, IsolationForest):\n",
        "        raise TypeError(f\"Expected IsolationForest model, but got {type(model)}\")\n",
        "\n",
        "    print(\"Query is \" + str(query))\n",
        "    query[\"unix_time\"] = datetime.strptime(query[\"unix_time\"], \"%Y-%m-%d %H:%M:%S\").timestamp()\n",
        "\n",
        "    new_transaction = pd.DataFrame([query])\n",
        "    new_transaction_encoded = pd.get_dummies(new_transaction)\n",
        "\n",
        "    df = pd.read_parquet(folder_path + \"unsupervised learning/dataset.parquet\")\n",
        "\n",
        "    # Ensure all columns match the training dataset\n",
        "    df_selected = pd.get_dummies(df[features])\n",
        "    missing_cols = set(df_selected.columns) - set(new_transaction_encoded.columns)\n",
        "\n",
        "    missing_df = pd.DataFrame(0, index=new_transaction_encoded.index, columns=list(missing_cols))\n",
        "    new_transaction_encoded = pd.concat([new_transaction_encoded, missing_df], axis=1)\n",
        "\n",
        "    # Reorder columns to match training data\n",
        "    new_transaction_encoded = new_transaction_encoded[df_selected.columns]\n",
        "\n",
        "    # Predict fraud score (-1 = fraud, 1 = normal)\n",
        "    fraud_score = model.predict(new_transaction_encoded)[0]\n",
        "\n",
        "    # Convert to readable format\n",
        "    fraud_detected = 1 if fraud_score == -1 else 0\n",
        "\n",
        "    return fraud_detected"
      ]
    },
    {
      "cell_type": "code",
      "execution_count": 10,
      "id": "2jP4x7pDFvYz",
      "metadata": {
        "colab": {
          "base_uri": "https://localhost:8080/",
          "height": 0
        },
        "collapsed": true,
        "id": "2jP4x7pDFvYz",
        "outputId": "5bc83114-0978-4517-9234-2f14ee11e2c2"
      },
      "outputs": [
        {
          "name": "stdout",
          "output_type": "stream",
          "text": [
            "Query output {'gender': 'F', 'amt': 300, 'unix_time': '2024-03-23 14:30:00', 'category': 'Transaction', 'merchant': 'Small Buisness', 'city_pop': 500000000000}\n",
            "Query is {'gender': 'F', 'amt': 300, 'unix_time': '2024-03-23 14:30:00', 'category': 'Transaction', 'merchant': 'Small Buisness', 'city_pop': 500000000000}\n"
          ]
        },
        {
          "data": {
            "text/plain": [
              "0"
            ]
          },
          "execution_count": 10,
          "metadata": {},
          "output_type": "execute_result"
        }
      ],
      "source": [
        "# Test Fraud\n",
        "date_str = \"2024-03-23 00:30:00\"\n",
        "unix = datetime.strptime(date_str, \"%Y-%m-%d %H:%M:%S\").timestamp()\n",
        "\n",
        "fraud_detection_check({\n",
        "  \"gender\": \"F\",\n",
        "  \"amt\": 300,\n",
        "  \"unix_time\": \"2024-03-23 14:30:00\",\n",
        "  \"category\": \"Transaction\",\n",
        "  \"merchant\": \"Small Buisness\",\n",
        "  \"city_pop\": 500000000000\n",
        "})"
      ]
    },
    {
      "cell_type": "code",
      "execution_count": 11,
      "id": "3kR9VxUcE6tz",
      "metadata": {
        "id": "3kR9VxUcE6tz"
      },
      "outputs": [],
      "source": [
        "# RISK ANALYSIS GRAPH\n",
        "\n",
        "class RiskAnalysisState(TypedDict):\n",
        "    messages: list[dict[str, str]]\n",
        "    query: dict\n",
        "    rules: str\n",
        "    risk_score: float\n",
        "\n",
        "def reasoner(state: RiskAnalysisState):\n",
        "    print(\"Reasoner \" + str(state))\n",
        "    user_query = state.get(\"query\", \"\")\n",
        "    rules = state.get(\"rules\", \"\")\n",
        "\n",
        "    # Chain-of-Thought Reasoning Prompt\n",
        "    context_prompt = f\"\"\"\n",
        "    You are a compliance risk evaluator. Follow this step-by-step approach to validate the financial profile:\n",
        "    Keep your output a bit small\n",
        "\n",
        "    1. **Extract Key Details**: Identify major financial transactions, loan history, and unusual activity.\n",
        "    2. **Compare with Policy Rules**: Use the provided policy guidelines to check for violations.\n",
        "    3. **Assess Risk Score**: Assign a risk score (0-1).\n",
        "    4. **Explain the Decision**: Provide justification for the assigned risk score.\n",
        "    User Request:\n",
        "    {user_query}\n",
        "\n",
        "    Regulatory Rules:\n",
        "    {rules}\n",
        "    \"\"\"\n",
        "\n",
        "    message = [{\"role\": \"system\", \"content\": context_prompt}]\n",
        "    response = openaillm.invoke(message + state[\"messages\"])\n",
        "\n",
        "    print(\"Reasoner response\", response)\n",
        "\n",
        "    risk_score = extract_risk_score(response.content)\n",
        "    updated_risk_score = risk_score if risk_score is not None else state.get(\"risk_score\", 0)\n",
        "\n",
        "    return {\"messages\": state[\"messages\"] + [response], \"risk_score\": updated_risk_score }"
      ]
    },
    {
      "cell_type": "code",
      "execution_count": 12,
      "id": "KntCuK9Z0_TB",
      "metadata": {
        "id": "KntCuK9Z0_TB"
      },
      "outputs": [],
      "source": [
        "import re\n",
        "\n",
        "def extract_risk_score(response_text):\n",
        "    match = re.search(r\"\\*\\*?Risk Score\\*\\*?:?\\s*([\\d.]+)\", response_text)\n",
        "    return float(match.group(1)) if match else None\n",
        "\n",
        "def decision_node(state: RiskAnalysisState) -> str:\n",
        "    human_review_required = state.get(\"risk_score\", 0) > 0.7\n",
        "    return \"human_review\" if human_review_required else \"low_risk_message\"\n",
        "\n",
        "def human_review(state: RiskAnalysisState):\n",
        "    last_message = state[\"messages\"][-1][\"content\"]\n",
        "    risk_score = extract_risk_score(last_message)\n",
        "\n",
        "    # 🚨 If the risk score is high, pause for human review\n",
        "    if risk_score >= 0.7:\n",
        "        msg = \"🚨 High-Risk Alert! Manual review required.\"\n",
        "        return {\"messages\": [{\"role\": \"assistant\", \"content\": msg }]}\n",
        "\n",
        "    return {\"messages\": state[\"messages\"]}"
      ]
    },
    {
      "cell_type": "code",
      "execution_count": 29,
      "id": "IgHJ8AUwEy-m",
      "metadata": {
        "id": "IgHJ8AUwEy-m"
      },
      "outputs": [],
      "source": [
        "def evaluate_risk(state: RiskAnalysisState):\n",
        "    print(\"risk  \" + str(state))\n",
        "    user_query = state.get(\"query\", \"\")\n",
        "    risk_score = state.get(\"risk_score\", \"\")\n",
        "\n",
        "    print(\"Risk score before evaluation\", risk_score)\n",
        "\n",
        "    is_fraud = fraud_detection_check(user_query)\n",
        "\n",
        "    print(\"Is fraudulent?\", is_fraud)\n",
        "\n",
        "    final_risk_score = is_fraud * 0.5 + risk_score * 0.5\n",
        "\n",
        "    print(\"Risk score after evaluation\", final_risk_score)\n",
        "\n",
        "    response = openaillm.invoke(f\"\"\"\n",
        "      The Unsupervised Isolated Model has given a risk score of {str(is_fraud)}\n",
        "      The risk score is either 0 or 1 only\n",
        "    \"\"\")\n",
        "\n",
        "    return {\"messages\": [response] + state[\"messages\"],\"risk_score\": final_risk_score}"
      ]
    },
    {
      "cell_type": "code",
      "execution_count": 14,
      "id": "S9ipTzva6kPR",
      "metadata": {
        "id": "S9ipTzva6kPR"
      },
      "outputs": [],
      "source": [
        "import json\n",
        "\n",
        "def low_risk_message(state: RiskAnalysisState):\n",
        "    assistant_response = [msg.content for msg in state[\"messages\"]]\n",
        "    rules = state.get(\"rules\", \"\")\n",
        "    risk = state.get(\"risk_score\",\"\")\n",
        "\n",
        "    # ✅ Structured reasoning for final decision\n",
        "    final_low_risk_prompt = ChatPromptTemplate([\n",
        "    (\"system\", \"You are a compliance analyst reviewing financial transactions for compliance assessment.\"),\n",
        "    (\"system\", \"This is an analytical tool for risk assessment insights. It does not make final financial decisions.\")  ,\n",
        "    (\"user\", f\"**Policy Context Retrieved**:\\n{rules}\"),\n",
        "    (\"user\", f\"**Previous Analysis**:\\n{assistant_response}\"),\n",
        "    (\"user\", f\"**Generate a structured response including a risk score, key analysis points, and recommendations. The updated risk score is calculated as: ml_model_risk_score * 0.5 + llm_risk_score * 0.5, which results in {risk}. Keep the response clear and relevant to compliance without including personally identifiable details.**\"),\n",
        "    (\"system\",f\"** Generate an analysis or remedial action that can take place to reduce the profile rizk. Do not include an sensitive terms\")\n",
        "    ])\n",
        "\n",
        "\n",
        "    # ✅ Let LLM generate the final structured response\n",
        "    final_response = openaillm.invoke(final_low_risk_prompt.format_prompt().to_messages() + state[\"messages\"])\n",
        "\n",
        "    return {\"messages\": [{\"role\": \"assistant\", \"content\": final_response.content}]}"
      ]
    },
    {
      "cell_type": "code",
      "execution_count": 30,
      "id": "fef148bd-14a3-432b-b97c-08bfa92a9fff",
      "metadata": {
        "colab": {
          "base_uri": "https://localhost:8080/",
          "height": 449
        },
        "id": "fef148bd-14a3-432b-b97c-08bfa92a9fff",
        "outputId": "5a6fdc1c-eecf-4894-9434-2ee1a6fc95a0"
      },
      "outputs": [
        {
          "data": {
            "image/png": "[encoded data removed]",
            "text/plain": [
              "<langgraph.graph.state.CompiledStateGraph object at 0x7d90dd662250>"
            ]
          },
          "execution_count": 30,
          "metadata": {},
          "output_type": "execute_result"
        }
      ],
      "source": [
        "builder = StateGraph(RiskAnalysisState)\n",
        "\n",
        "builder.add_node(\"reasoner\",reasoner)\n",
        "builder.add_node(\"tools\",ToolNode(tools))\n",
        "builder.add_node(\"evaluate\", evaluate_risk)\n",
        "builder.add_node(\"human_review\", human_review)\n",
        "builder.add_node(\"low_risk_message\", low_risk_message)\n",
        "\n",
        "builder.add_edge(START,\"reasoner\")\n",
        "builder.add_conditional_edges(\"reasoner\",tools_condition)\n",
        "builder.add_edge(\"tools\",\"reasoner\")\n",
        "builder.add_edge(\"reasoner\",\"evaluate\")\n",
        "builder.add_conditional_edges(\"evaluate\", decision_node)\n",
        "\n",
        "builder.add_edge(\"human_review\", END)\n",
        "builder.add_edge(\"low_risk_message\", END)\n",
        "\n",
        "validate_graph = builder.compile()\n",
        "\n",
        "\n",
        "validate_graph"
      ]
    },
    {
      "cell_type": "code",
      "execution_count": 31,
      "id": "b6ca5bfc-1353-4f79-8f4b-ff59acd5ab58",
      "metadata": {
        "id": "b6ca5bfc-1353-4f79-8f4b-ff59acd5ab58"
      },
      "outputs": [],
      "source": [
        "date_str = \"2024-03-23 00:30:00\"\n",
        "unix = datetime.strptime(date_str, \"%Y-%m-%d %H:%M:%S\").timestamp()\n",
        "\n",
        "query = {\n",
        "  \"gender\": \"M\",\n",
        "  \"amt\": 500,\n",
        "  \"unix_time\": \"2024-03-23 00:30:00\",\n",
        "  \"category\": \"From Software\",\n",
        "  \"merchant\": \"Amazon\",\n",
        "  \"city_pop\": 5000000000\n",
        "}\n",
        "\n",
        "rules = \"\"\"\n",
        "*Schedule A - Retail Determination Process*\n",
        "\n",
        "1. *Data Collection*\n",
        "   - Sources: Utilizes credit reports, consumer panels, internal systems for retail banking data accuracy.\n",
        "   - Importance: Ensures reliable data for comprehensive analysis.\n",
        "\n",
        "2. *Credit Quality Analysis*\n",
        "   - Metrics: Calculates delinquency rates at 30, 60, and 90 days to assess risk levels in different loan segments (credit card accounts, installment loans).\n",
        "\n",
        "3. *Trend Analysis*\n",
        "   - Comparison: Analyzes performance across various consumer segments to track changes over time.\n",
        "\n",
        "4. *Delinquency Rate Calculation*\n",
        "   - Percentage Determination: Identifies the proportion of delinquent borrowers contributing to credit risk assessment.\n",
        "|\n",
        "5. *Credit Utilization Metrics*\n",
        "   - Ratio Assessment: Evaluates average credit utilization, indicating consumer leverage and future default risk potential.\n",
        "\n",
        "6. *Risk-Weighted Asset (RWA) Calculation*\n",
        "   - Risk Assessment: Measures the riskiness of assets against regulatory requirements for capital adequacy.\n",
        "\n",
        "7. *Stress Testing*\n",
        "   - Scenario Simulation: Assesses potential impacts on credit performance under adverse economic conditions to ensure solvency.\n",
        "\n",
        "8. *Liquidity Assessment*\n",
        "   - Liquidity Monitoring: Evaluates the bank's ability to meet short-term obligations using retail deposits and liquid assets.\n",
        "\n",
        "9. *Regulatory Compliance*\n",
        "   - Standards Adherence: Ensures data consistency with GAAP and Basel III regulations for accurate reporting.\n",
        "\n",
        "10. *Reporting & Analysis*\n",
        "    - Comprehensive Reporting: Presents detailed insights into credit performance, trends, risk metrics, and regulatory compliance status to support strategic decision-making in product development, risk management, and marketing strategies.\n",
        "\"\"\"\n"
      ]
    },
    {
      "cell_type": "code",
      "execution_count": 32,
      "id": "_pCrHf5Jhtlf",
      "metadata": {
        "colab": {
          "base_uri": "https://localhost:8080/",
          "height": 0
        },
        "id": "_pCrHf5Jhtlf",
        "outputId": "85a8364b-b82f-43e0-af35-5859886ff0e9"
      },
      "outputs": [
        {
          "name": "stdout",
          "output_type": "stream",
          "text": [
            "Reasoner {'messages': [], 'query': {'gender': 'M', 'amt': 500, 'unix_time': '2024-03-23 00:30:00', 'category': 'From Software', 'merchant': 'Amazon', 'city_pop': 5000000000}, 'rules': \"\\n*Schedule A - Retail Determination Process*\\n\\n1. *Data Collection*\\n   - Sources: Utilizes credit reports, consumer panels, internal systems for retail banking data accuracy.\\n   - Importance: Ensures reliable data for comprehensive analysis.\\n\\n2. *Credit Quality Analysis*\\n   - Metrics: Calculates delinquency rates at 30, 60, and 90 days to assess risk levels in different loan segments (credit card accounts, installment loans).\\n\\n3. *Trend Analysis*\\n   - Comparison: Analyzes performance across various consumer segments to track changes over time.\\n\\n4. *Delinquency Rate Calculation*\\n   - Percentage Determination: Identifies the proportion of delinquent borrowers contributing to credit risk assessment.\\n|\\n5. *Credit Utilization Metrics*\\n   - Ratio Assessment: Evaluates average credit utilization, indicating consumer leverage and future default risk potential.\\n\\n6. *Risk-Weighted Asset (RWA) Calculation*\\n   - Risk Assessment: Measures the riskiness of assets against regulatory requirements for capital adequacy.\\n\\n7. *Stress Testing*\\n   - Scenario Simulation: Assesses potential impacts on credit performance under adverse economic conditions to ensure solvency.\\n\\n8. *Liquidity Assessment*\\n   - Liquidity Monitoring: Evaluates the bank's ability to meet short-term obligations using retail deposits and liquid assets.\\n\\n9. *Regulatory Compliance*\\n   - Standards Adherence: Ensures data consistency with GAAP and Basel III regulations for accurate reporting.\\n\\n10. *Reporting & Analysis*\\n    - Comprehensive Reporting: Presents detailed insights into credit performance, trends, risk metrics, and regulatory compliance status to support strategic decision-making in product development, risk management, and marketing\\xa0strategies.\\n\"}\n",
            "Reasoner response content=\"1. **Extract Key Details**:\\n   - **Transaction Amount**: $500\\n   - **Transaction Date**: 2024-03-23\\n   - **Category**: Software Purchase\\n   - **Merchant**: Amazon\\n   - **City Population**: 5,000,000,000 (unusual, likely an error since no city has this population)\\n\\n2. **Compare with Policy Rules**:\\n   - **Credit Quality Analysis**: There's no direct information on delinquency related to this transaction, but it's crucial to monitor if it's part of a pattern.\\n   - **Trend Analysis**: A software purchase from Amazon is typical consumer behavior, not indicative of any unusual trend.\\n   - **Credit Utilization Metrics**: A $500 transaction is relatively small and unlikely to significantly impact credit utilization unless it's part of larger, undisclosed spending.\\n   - **Regulatory Compliance**: The transaction does not directly indicate a violation of GAAP or Basel III standards.\\n\\n3. **Assess Risk Score**:\\n   - Given the data, the risk score is **0.1**. The transaction is small and typical for retail consumer behavior, but the unusually reported city population could indicate a data error worth further investigation.\\n\\n4. **Explain the Decision**:\\n   - The assigned risk score reflects a low-risk transaction typical of everyday consumer activity. The primary concern is the reported city population, suggesting a possible error in data reporting or capture, which should be flagged for correction or further review. The financial amount and nature of the transaction (software purchase from a major retailer) do not, in themselves, suggest high risk.\" additional_kwargs={'refusal': None} response_metadata={'token_usage': {'completion_tokens': 330, 'prompt_tokens': 519, 'total_tokens': 849, 'completion_tokens_details': {'accepted_prediction_tokens': 0, 'audio_tokens': 0, 'reasoning_tokens': 0, 'rejected_prediction_tokens': 0}, 'prompt_tokens_details': {'audio_tokens': 0, 'cached_tokens': 0}}, 'model_name': 'gpt-4-turbo-2024-04-09', 'system_fingerprint': 'fp_101a39fff3', 'id': 'chatcmpl-BFJSxqXBt078yqIJsOx0Uy1GIS0UD', 'finish_reason': 'stop', 'logprobs': None} id='run-6961406f-1134-4503-9ea5-89d3e3410c0f-0' usage_metadata={'input_tokens': 519, 'output_tokens': 330, 'total_tokens': 849, 'input_token_details': {'audio': 0, 'cache_read': 0}, 'output_token_details': {'audio': 0, 'reasoning': 0}}\n",
            "risk  {'messages': [AIMessage(content=\"1. **Extract Key Details**:\\n   - **Transaction Amount**: $500\\n   - **Transaction Date**: 2024-03-23\\n   - **Category**: Software Purchase\\n   - **Merchant**: Amazon\\n   - **City Population**: 5,000,000,000 (unusual, likely an error since no city has this population)\\n\\n2. **Compare with Policy Rules**:\\n   - **Credit Quality Analysis**: There's no direct information on delinquency related to this transaction, but it's crucial to monitor if it's part of a pattern.\\n   - **Trend Analysis**: A software purchase from Amazon is typical consumer behavior, not indicative of any unusual trend.\\n   - **Credit Utilization Metrics**: A $500 transaction is relatively small and unlikely to significantly impact credit utilization unless it's part of larger, undisclosed spending.\\n   - **Regulatory Compliance**: The transaction does not directly indicate a violation of GAAP or Basel III standards.\\n\\n3. **Assess Risk Score**:\\n   - Given the data, the risk score is **0.1**. The transaction is small and typical for retail consumer behavior, but the unusually reported city population could indicate a data error worth further investigation.\\n\\n4. **Explain the Decision**:\\n   - The assigned risk score reflects a low-risk transaction typical of everyday consumer activity. The primary concern is the reported city population, suggesting a possible error in data reporting or capture, which should be flagged for correction or further review. The financial amount and nature of the transaction (software purchase from a major retailer) do not, in themselves, suggest high risk.\", additional_kwargs={'refusal': None}, response_metadata={'token_usage': {'completion_tokens': 330, 'prompt_tokens': 519, 'total_tokens': 849, 'completion_tokens_details': {'accepted_prediction_tokens': 0, 'audio_tokens': 0, 'reasoning_tokens': 0, 'rejected_prediction_tokens': 0}, 'prompt_tokens_details': {'audio_tokens': 0, 'cached_tokens': 0}}, 'model_name': 'gpt-4-turbo-2024-04-09', 'system_fingerprint': 'fp_101a39fff3', 'id': 'chatcmpl-BFJSxqXBt078yqIJsOx0Uy1GIS0UD', 'finish_reason': 'stop', 'logprobs': None}, id='run-6961406f-1134-4503-9ea5-89d3e3410c0f-0', usage_metadata={'input_tokens': 519, 'output_tokens': 330, 'total_tokens': 849, 'input_token_details': {'audio': 0, 'cache_read': 0}, 'output_token_details': {'audio': 0, 'reasoning': 0}})], 'query': {'gender': 'M', 'amt': 500, 'unix_time': '2024-03-23 00:30:00', 'category': 'From Software', 'merchant': 'Amazon', 'city_pop': 5000000000}, 'rules': \"\\n*Schedule A - Retail Determination Process*\\n\\n1. *Data Collection*\\n   - Sources: Utilizes credit reports, consumer panels, internal systems for retail banking data accuracy.\\n   - Importance: Ensures reliable data for comprehensive analysis.\\n\\n2. *Credit Quality Analysis*\\n   - Metrics: Calculates delinquency rates at 30, 60, and 90 days to assess risk levels in different loan segments (credit card accounts, installment loans).\\n\\n3. *Trend Analysis*\\n   - Comparison: Analyzes performance across various consumer segments to track changes over time.\\n\\n4. *Delinquency Rate Calculation*\\n   - Percentage Determination: Identifies the proportion of delinquent borrowers contributing to credit risk assessment.\\n|\\n5. *Credit Utilization Metrics*\\n   - Ratio Assessment: Evaluates average credit utilization, indicating consumer leverage and future default risk potential.\\n\\n6. *Risk-Weighted Asset (RWA) Calculation*\\n   - Risk Assessment: Measures the riskiness of assets against regulatory requirements for capital adequacy.\\n\\n7. *Stress Testing*\\n   - Scenario Simulation: Assesses potential impacts on credit performance under adverse economic conditions to ensure solvency.\\n\\n8. *Liquidity Assessment*\\n   - Liquidity Monitoring: Evaluates the bank's ability to meet short-term obligations using retail deposits and liquid assets.\\n\\n9. *Regulatory Compliance*\\n   - Standards Adherence: Ensures data consistency with GAAP and Basel III regulations for accurate reporting.\\n\\n10. *Reporting & Analysis*\\n    - Comprehensive Reporting: Presents detailed insights into credit performance, trends, risk metrics, and regulatory compliance status to support strategic decision-making in product development, risk management, and marketing\\xa0strategies.\\n\", 'risk_score': 0}\n",
            "Risk score before evaluation 0\n",
            "Query output {'gender': 'M', 'amt': 500, 'unix_time': '2024-03-23 00:30:00', 'category': 'From Software', 'merchant': 'Amazon', 'city_pop': 5000000000}\n",
            "Query is {'gender': 'M', 'amt': 500, 'unix_time': '2024-03-23 00:30:00', 'category': 'From Software', 'merchant': 'Amazon', 'city_pop': 5000000000}\n",
            "Is fraudulent? 1\n",
            "Risk score after evaluation 0.5\n"
          ]
        }
      ],
      "source": [
        "def chatbot(query,rules):\n",
        "    requestObj = {\"query\": query, \"rules\": rules, \"messages\": []}\n",
        "    response = validate_graph.invoke(requestObj)\n",
        "chatbot(query,rules)\n"
      ]
    },
    {
      "cell_type": "code",
      "execution_count": null,
      "id": "gQTywUPF-B6z",
      "metadata": {
        "colab": {
          "base_uri": "https://localhost:8080/",
          "height": 833
        },
        "id": "gQTywUPF-B6z",
        "outputId": "6962d6e9-2865-499a-fde0-29a790f60300"
      },
      "outputs": [
        {
          "name": "stderr",
          "output_type": "stream",
          "text": [
            "<ipython-input-33-c6add50967f3>:27: UserWarning: You have not specified a value for the `type` parameter. Defaulting to the 'tuples' format for chatbot messages, but this is deprecated and will be removed in a future version of Gradio. Please set type='messages' instead, which uses openai-style dictionaries with 'role' and 'content' keys.\n",
            "  chatbot = gr.Chatbot(label=\"Chat\")  # Chat-style component\n"
          ]
        },
        {
          "name": "stdout",
          "output_type": "stream",
          "text": [
            "Running Gradio in a Colab notebook requires sharing enabled. Automatically setting `share=True` (you can turn this off by setting `share=False` in `launch()` explicitly).\n",
            "\n",
            "Colab notebook detected. This cell will run indefinitely so that you can see errors and logs. To turn off, set debug=False in launch().\n",
            "* Running on public URL: https://ce7141da9d3a616e2e.gradio.live\n",
            "\n",
            "This share link expires in 72 hours. For free permanent hosting and GPU upgrades, run `gradio deploy` from the terminal in the working directory to deploy to Hugging Face Spaces (https://huggingface.co/spaces)\n"
          ]
        },
        {
          "data": {
            "text/html": [
              "<div><iframe src=\"https://ce7141da9d3a616e2e.gradio.live\" width=\"100%\" height=\"500\" allow=\"autoplay; camera; microphone; clipboard-read; clipboard-write;\" frameborder=\"0\" allowfullscreen></iframe></div>"
            ],
            "text/plain": [
              "<IPython.core.display.HTML object>"
            ]
          },
          "metadata": {},
          "output_type": "display_data"
        },
        {
          "name": "stdout",
          "output_type": "stream",
          "text": [
            "Reasoner {'messages': [], 'query': {'gender': 'M', 'amt': 500, 'unix_time': '2024-03-23 00:30:00', 'category': 'From Software', 'merchant': 'Amazon', 'city_pop': 5000000000}, 'rules': \"*Schedule A - Retail Determination Process*\\n\\n1. *Data Collection*\\n   - Sources: Utilizes credit reports, consumer panels, internal systems for retail banking data accuracy.\\n   - Importance: Ensures reliable data for comprehensive analysis.\\n\\n2. *Credit Quality Analysis*\\n   - Metrics: Calculates delinquency rates at 30, 60, and 90 days to assess risk levels in different loan segments (credit card accounts, installment loans).\\n\\n3. *Trend Analysis*\\n   - Comparison: Analyzes performance across various consumer segments to track changes over time.\\n\\n4. *Delinquency Rate Calculation*\\n   - Percentage Determination: Identifies the proportion of delinquent borrowers contributing to credit risk assessment.\\n|\\n5. *Credit Utilization Metrics*\\n   - Ratio Assessment: Evaluates average credit utilization, indicating consumer leverage and future default risk potential.\\n\\n6. *Risk-Weighted Asset (RWA) Calculation*\\n   - Risk Assessment: Measures the riskiness of assets against regulatory requirements for capital adequacy.\\n\\n7. *Stress Testing*\\n   - Scenario Simulation: Assesses potential impacts on credit performance under adverse economic conditions to ensure solvency.\\n\\n8. *Liquidity Assessment*\\n   - Liquidity Monitoring: Evaluates the bank's ability to meet short-term obligations using retail deposits and liquid assets.\\n\\n9. *Regulatory Compliance*\\n   - Standards Adherence: Ensures data consistency with GAAP and Basel III regulations for accurate reporting.\\n\\n10. *Reporting & Analysis*\\n    - Comprehensive Reporting: Presents detailed insights into credit performance, trends, risk metrics, and regulatory compliance status to support strategic decision-making in product development, risk management, and marketing\\xa0strategies.\\n\"}\n",
            "Reasoner response content='1. **Extract Key Details**:\\n   - **Transaction Amount**: $500\\n   - **Date**: 2024-03-23\\n   - **Category**: From Software\\n   - **Merchant**: Amazon\\n   - **City Population**: 5,000,000,000 (notably high, possibly an error)\\n\\n2. **Compare with Policy Rules**:\\n   - The transaction does not directly relate to credit quality, delinquency rates, or credit utilization metrics.\\n   - The transaction does not affect RWA calculation, stress testing, or liquidity assessment.\\n   - The transaction is a retail purchase, which should be checked for fraud or unusual activity due to the high population figure, but does not directly violate any specific regulatory rules outlined.\\n\\n3. **Assess Risk Score**:\\n   - **Risk Score**: 0.1\\n   - The transaction itself is low risk in terms of credit risk or delinquency. The primary concern would be the validity of the city population data, which might indicate a data error or anomaly.\\n\\n4. **Explain the Decision**:\\n   - The risk score is low because the transaction is a straightforward retail purchase which does not inherently carry high credit risk or potential for delinquency. The unusually high city population figure could be an error and warrants a data accuracy check but does not immediately impact the financial risk associated with this transaction. Compliance with regulatory standards appears intact, with no immediate discrepancies or violations detected from this single transaction.' additional_kwargs={'refusal': None} response_metadata={'token_usage': {'completion_tokens': 301, 'prompt_tokens': 519, 'total_tokens': 820, 'completion_tokens_details': {'accepted_prediction_tokens': 0, 'audio_tokens': 0, 'reasoning_tokens': 0, 'rejected_prediction_tokens': 0}, 'prompt_tokens_details': {'audio_tokens': 0, 'cached_tokens': 0}}, 'model_name': 'gpt-4-turbo-2024-04-09', 'system_fingerprint': 'fp_101a39fff3', 'id': 'chatcmpl-BFJZcLQrvzkVrzIyw1sRSXsxKwfkf', 'finish_reason': 'stop', 'logprobs': None} id='run-f50c36c3-ea37-47a8-9569-a3daaa1f8ba0-0' usage_metadata={'input_tokens': 519, 'output_tokens': 301, 'total_tokens': 820, 'input_token_details': {'audio': 0, 'cache_read': 0}, 'output_token_details': {'audio': 0, 'reasoning': 0}}\n",
            "risk  {'messages': [AIMessage(content='1. **Extract Key Details**:\\n   - **Transaction Amount**: $500\\n   - **Date**: 2024-03-23\\n   - **Category**: From Software\\n   - **Merchant**: Amazon\\n   - **City Population**: 5,000,000,000 (notably high, possibly an error)\\n\\n2. **Compare with Policy Rules**:\\n   - The transaction does not directly relate to credit quality, delinquency rates, or credit utilization metrics.\\n   - The transaction does not affect RWA calculation, stress testing, or liquidity assessment.\\n   - The transaction is a retail purchase, which should be checked for fraud or unusual activity due to the high population figure, but does not directly violate any specific regulatory rules outlined.\\n\\n3. **Assess Risk Score**:\\n   - **Risk Score**: 0.1\\n   - The transaction itself is low risk in terms of credit risk or delinquency. The primary concern would be the validity of the city population data, which might indicate a data error or anomaly.\\n\\n4. **Explain the Decision**:\\n   - The risk score is low because the transaction is a straightforward retail purchase which does not inherently carry high credit risk or potential for delinquency. The unusually high city population figure could be an error and warrants a data accuracy check but does not immediately impact the financial risk associated with this transaction. Compliance with regulatory standards appears intact, with no immediate discrepancies or violations detected from this single transaction.', additional_kwargs={'refusal': None}, response_metadata={'token_usage': {'completion_tokens': 301, 'prompt_tokens': 519, 'total_tokens': 820, 'completion_tokens_details': {'accepted_prediction_tokens': 0, 'audio_tokens': 0, 'reasoning_tokens': 0, 'rejected_prediction_tokens': 0}, 'prompt_tokens_details': {'audio_tokens': 0, 'cached_tokens': 0}}, 'model_name': 'gpt-4-turbo-2024-04-09', 'system_fingerprint': 'fp_101a39fff3', 'id': 'chatcmpl-BFJZcLQrvzkVrzIyw1sRSXsxKwfkf', 'finish_reason': 'stop', 'logprobs': None}, id='run-f50c36c3-ea37-47a8-9569-a3daaa1f8ba0-0', usage_metadata={'input_tokens': 519, 'output_tokens': 301, 'total_tokens': 820, 'input_token_details': {'audio': 0, 'cache_read': 0}, 'output_token_details': {'audio': 0, 'reasoning': 0}})], 'query': {'gender': 'M', 'amt': 500, 'unix_time': '2024-03-23 00:30:00', 'category': 'From Software', 'merchant': 'Amazon', 'city_pop': 5000000000}, 'rules': \"*Schedule A - Retail Determination Process*\\n\\n1. *Data Collection*\\n   - Sources: Utilizes credit reports, consumer panels, internal systems for retail banking data accuracy.\\n   - Importance: Ensures reliable data for comprehensive analysis.\\n\\n2. *Credit Quality Analysis*\\n   - Metrics: Calculates delinquency rates at 30, 60, and 90 days to assess risk levels in different loan segments (credit card accounts, installment loans).\\n\\n3. *Trend Analysis*\\n   - Comparison: Analyzes performance across various consumer segments to track changes over time.\\n\\n4. *Delinquency Rate Calculation*\\n   - Percentage Determination: Identifies the proportion of delinquent borrowers contributing to credit risk assessment.\\n|\\n5. *Credit Utilization Metrics*\\n   - Ratio Assessment: Evaluates average credit utilization, indicating consumer leverage and future default risk potential.\\n\\n6. *Risk-Weighted Asset (RWA) Calculation*\\n   - Risk Assessment: Measures the riskiness of assets against regulatory requirements for capital adequacy.\\n\\n7. *Stress Testing*\\n   - Scenario Simulation: Assesses potential impacts on credit performance under adverse economic conditions to ensure solvency.\\n\\n8. *Liquidity Assessment*\\n   - Liquidity Monitoring: Evaluates the bank's ability to meet short-term obligations using retail deposits and liquid assets.\\n\\n9. *Regulatory Compliance*\\n   - Standards Adherence: Ensures data consistency with GAAP and Basel III regulations for accurate reporting.\\n\\n10. *Reporting & Analysis*\\n    - Comprehensive Reporting: Presents detailed insights into credit performance, trends, risk metrics, and regulatory compliance status to support strategic decision-making in product development, risk management, and marketing\\xa0strategies.\\n\", 'risk_score': 0.1}\n",
            "Risk score before evaluation 0.1\n",
            "Query output {'gender': 'M', 'amt': 500, 'unix_time': '2024-03-23 00:30:00', 'category': 'From Software', 'merchant': 'Amazon', 'city_pop': 5000000000}\n",
            "Query is {'gender': 'M', 'amt': 500, 'unix_time': '2024-03-23 00:30:00', 'category': 'From Software', 'merchant': 'Amazon', 'city_pop': 5000000000}\n",
            "Is fraudulent? 1\n",
            "Risk score after evaluation 0.55\n"
          ]
        }
      ],
      "source": [
        "import gradio as gr\n",
        "import json\n",
        "\n",
        "def process_input1(user_input):\n",
        "    \"\"\"Processes JSON input and stores it.\"\"\"\n",
        "    try:\n",
        "        parsed_dict = json.loads(user_input)  # Convert JSON string to dictionary\n",
        "        processed_data = parsed_dict\n",
        "\n",
        "        return [(\"User\", user_input), (\"Bot\", f\"✅ Successfully processed JSON: {processed_data}\")], processed_data\n",
        "    except json.JSONDecodeError:\n",
        "        return [(\"Bot\", \"❌ Invalid JSON format. Please enter a valid JSON.\")], None\n",
        "\n",
        "def process_final(processed_input1, input2):\n",
        "    \"\"\"Combines stored JSON data with second input.\"\"\"\n",
        "    if processed_input1 is None:\n",
        "        return [(\"Bot\", \"❌ No valid JSON processed. Please start again.\")]\n",
        "\n",
        "    requestObj = {\"query\": processed_input1, \"rules\": input2, \"messages\": []}\n",
        "    response = validate_graph.invoke(requestObj)\n",
        "\n",
        "    return [(\"User\", input2), (\"Bot\", response[\"messages\"][-1][\"content\"])]\n",
        "\n",
        "with gr.Blocks() as demo:\n",
        "    gr.Markdown(\"# 🤖 AI Chatbot\\nWelcome! Enter your inputs below.\")\n",
        "\n",
        "    chatbot = gr.Chatbot(label=\"Chat\")  # Chat-style component\n",
        "    state = gr.State()  # Store processed JSON\n",
        "\n",
        "    with gr.Row():\n",
        "        input1 = gr.Textbox(label=\"Enter a transaction profile as a JSON please\")\n",
        "        btn1 = gr.Button(\"Submit Transaction \")\n",
        "\n",
        "    btn1.click(process_input1, inputs=input1, outputs=[chatbot, state])\n",
        "\n",
        "    with gr.Row(visible=False) as second_input_row:\n",
        "        input2 = gr.Textbox(label=\"Add the Regulatory Rules to validate the Profile\")\n",
        "        btn2 = gr.Button(\"Generate Analysis\")\n",
        "\n",
        "    btn1.click(lambda: gr.update(visible=True), outputs=second_input_row)\n",
        "    btn2.click(process_final, inputs=[state, input2], outputs=chatbot)\n",
        "\n",
        "demo.launch(debug=True)\n"
      ]
    },
    {
      "cell_type": "code",
      "execution_count": null,
      "id": "bXhKvUG3Ltlw",
      "metadata": {
        "id": "bXhKvUG3Ltlw"
      },
      "outputs": [],
      "source": [
        "openaillm.invoke(\"hello\")"
      ]
    },
    {
      "cell_type": "code",
      "execution_count": null,
      "id": "mbbCG8wQbjk_",
      "metadata": {
        "id": "mbbCG8wQbjk_"
      },
      "outputs": [],
      "source": []
    }
  ],
  "metadata": {
    "accelerator": "GPU",
    "colab": {
      "gpuType": "T4",
      "provenance": []
    },
    "kernelspec": {
      "display_name": "Python 3",
      "name": "python3"
    },
    "language_info": {
      "codemirror_mode": {
        "name": "ipython",
        "version": 3
      },
      "file_extension": ".py",
      "mimetype": "text/x-python",
      "name": "python",
      "nbconvert_exporter": "python",
      "pygments_lexer": "ipython3",
      "version": "3.12.2"
    }
  },
  "nbformat": 4,
  "nbformat_minor": 5
}
